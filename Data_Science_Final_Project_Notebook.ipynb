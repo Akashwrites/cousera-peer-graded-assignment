{
 "cells": [
  {
   "cell_type": "markdown",
   "id": "6e57fea5",
   "metadata": {},
   "source": [
    "# My Data Science Project Notebook"
   ]
  },
  {
   "cell_type": "markdown",
   "id": "b4452dc1",
   "metadata": {},
   "source": [
    "## Introduction\n",
    "This notebook introduces key concepts and tools in data science. It demonstrates use of markdown for documentation and code cells for computations in Jupyterlite."
   ]
  },
  {
   "cell_type": "markdown",
   "id": "970c126f",
   "metadata": {},
   "source": [
    "## Data Science Languages\n",
    "- Python  \n",
    "- R  \n",
    "- SQL  \n",
    "- Julia  \n",
    "- Scala"
   ]
  },
  {
   "cell_type": "markdown",
   "id": "5b905843",
   "metadata": {},
   "source": [
    "## Data Science Libraries\n",
    "- NumPy  \n",
    "- Pandas  \n",
    "- Matplotlib  \n",
    "- Seaborn  \n",
    "- Scikit-learn  \n",
    "- TensorFlow"
   ]
  },
  {
   "cell_type": "markdown",
   "id": "100c1028",
   "metadata": {},
   "source": [
    "## Data Science Tools\n",
    "\n",
    "| Tool Name    | Purpose               | Description                |\n",
    "|--------------|-----------------------|----------------------------|\n",
    "| Jupyter      | Notebook interface    | Interactive computing      |\n",
    "| RStudio      | IDE for R             | Statistical analysis       |\n",
    "| GitHub       | Version control       | Code collaboration         |\n",
    "| Tableau      | Data visualization    | Visual reporting           |\n",
    "| Apache Spark | Big data processing   | Distributed computing      |"
   ]
  },
  {
   "cell_type": "markdown",
   "id": "282e7502",
   "metadata": {},
   "source": [
    "## Arithmetic Expressions Examples\n",
    "In this section, simple arithmetic operations such as multiplication, addition, and unit conversions are demonstrated using code cells."
   ]
  },
  {
   "cell_type": "code",
   "execution_count": null,
   "id": "568553c9",
   "metadata": {},
   "outputs": [],
   "source": [
    "# Multiply and add numbers example\n",
    "result = (5 * 4) + 3\n",
    "result"
   ]
  },
  {
   "cell_type": "code",
   "execution_count": null,
   "id": "3f5ad2c8",
   "metadata": {},
   "outputs": [],
   "source": [
    "# Convert minutes to hours\n",
    "minutes = 150\n",
    "hours = minutes / 60\n",
    "hours"
   ]
  },
  {
   "cell_type": "markdown",
   "id": "e9f11c42",
   "metadata": {},
   "source": [
    "## Objectives\n",
    "- Understand how to use markdown in Jupyterlite.  \n",
    "- Demonstrate basic arithmetic operations in code cells.  \n",
    "- Present key data science tools, libraries, and languages.  \n",
    "- Share a notebook publicly via GitHub."
   ]
  },
  {
   "cell_type": "markdown",
   "id": "ed7e4203",
   "metadata": {},
   "source": [
    "## Author\n",
    "John Doe"
   ]
  },
  {
   "cell_type": "markdown",
   "id": "6f4f9939",
   "metadata": {},
   "source": [
    "## Share on GitHub\n",
    "- After completing the notebook, upload it to a public GitHub repository.\n",
    "- Share the public URL of your GitHub notebook link for peer grading."
   ]
  },
  {
   "cell_type": "markdown",
   "id": "1d7eb60d",
   "metadata": {},
   "source": [
    "## Screenshot\n",
    "- Take a screenshot of your notebook's first page showing markdown and code cells along with outputs.\n",
    "- Save it as a .jpg or .png file and submit for review."
   ]
  }
 ],
 "metadata": {
  "kernelspec": {
   "display_name": "Python 3",
   "language": "python",
   "name": "python3"
  },
  "language_info": {
   "codemirror_mode": {
    "name": "ipython",
    "version": 3
   },
   "file_extension": ".py",
   "mimetype": "text/x-python",
   "name": "python",
   "nbconvert_exporter": "python",
   "pygments_lexer": "ipython3",
   "version": "3.8.10"
  }
 },
 "nbformat": 4,
 "nbformat_minor": 5
}
